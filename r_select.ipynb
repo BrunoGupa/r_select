{
 "cells": [
  {
   "cell_type": "markdown",
   "metadata": {},
   "source": [
    "# R-Select"
   ]
  },
  {
   "cell_type": "code",
   "execution_count": 219,
   "metadata": {},
   "outputs": [],
   "source": [
    "import random\n",
    "# Generate n different random numbers\n",
    "n = 10000000\n",
    "limit_sup = 100000000\n",
    "limit_inf = -100000000\n",
    "S = random.sample(range(limit_inf,limit_sup), n)"
   ]
  },
  {
   "cell_type": "code",
   "execution_count": 215,
   "metadata": {},
   "outputs": [],
   "source": [
    "def r_select(S,k):\n",
    "    # k = kth position from 1 to |S|\n",
    "    if len(S) == 1:\n",
    "        return S[0]\n",
    "    elif len(S) == 0:\n",
    "        return None\n",
    "    else:\n",
    "        # Choose the pivot s\n",
    "        s = random.choice(S)\n",
    "        S1 = []\n",
    "        S2 = []\n",
    "        for i in S:\n",
    "            if i < s:\n",
    "                S1.append(i)\n",
    "            elif i > s:\n",
    "                S2.append(i)\n",
    "        m = len(S1)\n",
    "        if k <= m:\n",
    "            s1 = r_select(S1,k)\n",
    "        else:\n",
    "            if k-m-1 == 0:\n",
    "                return s\n",
    "            else: \n",
    "                s1 = r_select(S2,k-m-1)\n",
    "        if s1 is None:\n",
    "            return s\n",
    "        return s1\n",
    "        "
   ]
  },
  {
   "cell_type": "code",
   "execution_count": 220,
   "metadata": {},
   "outputs": [
    {
     "output_type": "execute_result",
     "data": {
      "text/plain": "-99800109"
     },
     "metadata": {},
     "execution_count": 220
    }
   ],
   "source": [
    "r_select(S,10001)"
   ]
  },
  {
   "cell_type": "code",
   "execution_count": 205,
   "metadata": {},
   "outputs": [],
   "source": [
    "# Brut force algorithm\n",
    "def pos_select(S,k):\n",
    "    S.sort()\n",
    "    return S[k-1]"
   ]
  },
  {
   "cell_type": "code",
   "execution_count": 221,
   "metadata": {},
   "outputs": [
    {
     "output_type": "execute_result",
     "data": {
      "text/plain": "-99800109"
     },
     "metadata": {},
     "execution_count": 221
    }
   ],
   "source": [
    "pos_select(S,10001)"
   ]
  },
  {
   "cell_type": "code",
   "execution_count": null,
   "metadata": {},
   "outputs": [],
   "source": []
  }
 ],
 "metadata": {
  "language_info": {
   "codemirror_mode": {
    "name": "ipython",
    "version": 2
   },
   "file_extension": ".py",
   "mimetype": "text/x-python",
   "name": "python",
   "nbconvert_exporter": "python",
   "pygments_lexer": "ipython2",
   "version": "3.7.7-final"
  },
  "orig_nbformat": 2,
  "kernelspec": {
   "name": "python37764bitpytorchenvconda871555cf05a649bcbe938c6eeed2d7c5",
   "display_name": "Python 3.7.7 64-bit ('PytorchEnv': conda)"
  }
 },
 "nbformat": 4,
 "nbformat_minor": 2
}